{
 "cells": [
  {
   "cell_type": "markdown",
   "metadata": {},
   "source": [
    "# Loading data"
   ]
  },
  {
   "cell_type": "code",
   "execution_count": null,
   "metadata": {},
   "outputs": [],
   "source": [
    "from pyspark.sql import SparkSession\n",
    "session = SparkSession.builder.getOrCreate()\n",
    "\n",
    "df = session.read.parquet(\"fraud-all.parquet\")"
   ]
  },
  {
   "cell_type": "markdown",
   "metadata": {},
   "source": [
    "## Cleaning data\n",
    "\n",
    "These data are mostly clean but we need to add a new field for transaction interarrival time."
   ]
  },
  {
   "cell_type": "code",
   "execution_count": null,
   "metadata": {},
   "outputs": [],
   "source": [
    "df.printSchema()"
   ]
  },
  {
   "cell_type": "code",
   "execution_count": null,
   "metadata": {},
   "outputs": [],
   "source": [
    "import pyspark.sql.window as W\n",
    "import pyspark.sql.functions as F\n",
    "\n",
    "interarrival_spec = W.Window.partitionBy(\"user_id\").orderBy(\"timestamp\")\n",
    "\n",
    "df_interarrival = df.withColumn(\n",
    "    \"previous_timestamp\", \n",
    "    F.lag(df[\"timestamp\"]).over(\n",
    "        interarrival_spec\n",
    "    )\n",
    ").withColumn(\n",
    "    \"interarrival\",\n",
    "    (F.col(\"timestamp\") - F.col(\"previous_timestamp\")).cast(\"int\")\n",
    ")"
   ]
  },
  {
   "cell_type": "code",
   "execution_count": null,
   "metadata": {
    "scrolled": true
   },
   "outputs": [],
   "source": [
    "%%time\n",
    "df_interarrival.show(100)"
   ]
  },
  {
   "cell_type": "code",
   "execution_count": null,
   "metadata": {},
   "outputs": [],
   "source": [
    "# never computed; an option for comparison\n",
    "\n",
    "df_dist_unused = df_interarrival.\\\n",
    "    withColumn(\"amount_quantile\",\n",
    "        F.cume_dist().over(\n",
    "            W.Window.partitionBy(\"user_id\").orderBy(\"amount\")\n",
    "        )\n",
    "    )"
   ]
  },
  {
   "cell_type": "code",
   "execution_count": null,
   "metadata": {},
   "outputs": [],
   "source": [
    "session.conf.set(\"spark.rapids.sql.castFloatToIntegralTypes.enabled\", True)\n",
    "\n",
    "windowSpec = \\\n",
    "    W.Window.partitionBy(\"user_id\").orderBy(\n",
    "        (F.col(\"amount\") * 100).cast(\"int\")\n",
    "    )\n",
    "\n",
    "# not identical to cume_dist; this rank is the fraction of \n",
    "# transactions that are strictly less than the current row\n",
    "\n",
    "df_dist = df_interarrival.\\\n",
    "    withColumn(\"amount_rank\",\n",
    "        (F.rank().over(windowSpec) / \n",
    "         F.count(\"user_id\").over(windowSpec)).cast(\"float\")\n",
    "    )"
   ]
  },
  {
   "cell_type": "code",
   "execution_count": null,
   "metadata": {},
   "outputs": [],
   "source": [
    "df_dist.printSchema()"
   ]
  },
  {
   "cell_type": "code",
   "execution_count": null,
   "metadata": {},
   "outputs": [],
   "source": [
    "df_out = df_dist.drop(\n",
    "    \"previous_timestamp\"\n",
    ").withColumn(\n",
    "    \"amount\", \n",
    "    F.col(\"amount\").cast(\"float\")\n",
    ").withColumn(\n",
    "    \"user_id\", \n",
    "    F.col(\"user_id\").cast(\"int\")\n",
    ").withColumn(\n",
    "    \"merchant_id\", \n",
    "    F.col(\"merchant_id\").cast(\"int\")\n",
    ")"
   ]
  },
  {
   "cell_type": "code",
   "execution_count": null,
   "metadata": {},
   "outputs": [],
   "source": [
    "import time\n",
    "output_time = int(time.time())\n",
    "\n",
    "df_out.write.parquet(f\"fraud-cleaned-{output_time}.parquet\")"
   ]
  },
  {
   "cell_type": "code",
   "execution_count": null,
   "metadata": {},
   "outputs": [],
   "source": [
    "df_out.sample(fraction=0.05).write.parquet(f\"fraud-cleaned-{output_time}-sample.parquet\")"
   ]
  },
  {
   "cell_type": "code",
   "execution_count": null,
   "metadata": {},
   "outputs": [],
   "source": []
  }
 ],
 "metadata": {
  "kernelspec": {
   "display_name": "Python 3 (ipykernel)",
   "language": "python",
   "name": "python3"
  },
  "language_info": {
   "codemirror_mode": {
    "name": "ipython",
    "version": 3
   },
   "file_extension": ".py",
   "mimetype": "text/x-python",
   "name": "python",
   "nbconvert_exporter": "python",
   "pygments_lexer": "ipython3",
   "version": "3.8.10"
  }
 },
 "nbformat": 4,
 "nbformat_minor": 4
}
